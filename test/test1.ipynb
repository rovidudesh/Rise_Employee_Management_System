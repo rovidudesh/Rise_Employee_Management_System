{
 "cells": [
  {
   "cell_type": "code",
   "execution_count": 3,
   "id": "f0441d2e",
   "metadata": {},
   "outputs": [
    {
     "name": "stdout",
     "output_type": "stream",
     "text": [
      "✅ Fresh DB 'employee_task2.db' initialized and session is ready.\n"
     ]
    }
   ],
   "source": [
    "from sqlalchemy import create_engine, Column, Integer, String, Text, Date, ForeignKey\n",
    "from sqlalchemy.orm import declarative_base, relationship, sessionmaker\n",
    "from datetime import date\n",
    "\n",
    "# --- Setup Base ---\n",
    "Base = declarative_base()\n",
    "\n",
    "# --- Models ---\n",
    "class User(Base):\n",
    "    __tablename__ = 'users'\n",
    "    id = Column(Integer, primary_key=True)\n",
    "    full_name = Column(String, nullable=False, unique=True)\n",
    "    role = Column(String)\n",
    "    team = Column(String)\n",
    "\n",
    "    daily_updates = relationship(\"DailyUpdate\", back_populates=\"user\")\n",
    "    assigned_tasks = relationship(\"Task\", back_populates=\"assigned_to\", foreign_keys=\"Task.assigned_to_id\")\n",
    "    created_tasks = relationship(\"Task\", back_populates=\"assigned_by\", foreign_keys=\"Task.assigned_by_id\")\n",
    "\n",
    "class DailyUpdate(Base):\n",
    "    __tablename__ = 'daily_updates'\n",
    "    id = Column(Integer, primary_key=True)\n",
    "    user_id = Column(Integer, ForeignKey('users.id'))\n",
    "    date = Column(Date, nullable=False)\n",
    "    title = Column(String)\n",
    "    work_done = Column(Text)\n",
    "    reference_links = Column(Text)\n",
    "    comment = Column(Text)\n",
    "\n",
    "    user = relationship(\"User\", back_populates=\"daily_updates\")\n",
    "\n",
    "class Task(Base):\n",
    "    __tablename__ = 'tasks'\n",
    "    id = Column(Integer, primary_key=True)\n",
    "    title = Column(String)\n",
    "    description = Column(Text)\n",
    "    due_date = Column(Date)\n",
    "    status = Column(String, default=\"open\")\n",
    "    assigned_to_id = Column(Integer, ForeignKey('users.id'))\n",
    "    assigned_by_id = Column(Integer, ForeignKey('users.id'))\n",
    "\n",
    "    assigned_to = relationship(\"User\", back_populates=\"assigned_tasks\", foreign_keys=[assigned_to_id])\n",
    "    assigned_by = relationship(\"User\", back_populates=\"created_tasks\", foreign_keys=[assigned_by_id])\n",
    "\n",
    "# --- Create new database ---\n",
    "engine = create_engine(\"sqlite:///employee_task2.db\", echo=False)\n",
    "Base.metadata.create_all(engine)\n",
    "\n",
    "# --- Bind session ---\n",
    "Session = sessionmaker(bind=engine)\n",
    "session = Session()\n",
    "\n",
    "print(\"✅ Fresh DB 'employee_task2.db' initialized and session is ready.\")"
   ]
  },
  {
   "cell_type": "code",
   "execution_count": 4,
   "id": "b6c5173e",
   "metadata": {},
   "outputs": [
    {
     "ename": "IntegrityError",
     "evalue": "(sqlite3.IntegrityError) UNIQUE constraint failed: users.full_name\n[SQL: INSERT INTO users (full_name, role, team) VALUES (?, ?, ?) RETURNING id]\n[parameters: ('Alice Johnson', 'manager', 'Engineering')]\n(Background on this error at: https://sqlalche.me/e/20/gkpj)",
     "output_type": "error",
     "traceback": [
      "\u001b[31m---------------------------------------------------------------------------\u001b[39m",
      "\u001b[31mIntegrityError\u001b[39m                            Traceback (most recent call last)",
      "\u001b[36mFile \u001b[39m\u001b[32me:\\Rise_Employee_Management_System\\rise_env\\Lib\\site-packages\\sqlalchemy\\engine\\base.py:2114\u001b[39m, in \u001b[36mConnection._exec_insertmany_context\u001b[39m\u001b[34m(self, dialect, context)\u001b[39m\n\u001b[32m   2113\u001b[39m     \u001b[38;5;28;01melse\u001b[39;00m:\n\u001b[32m-> \u001b[39m\u001b[32m2114\u001b[39m         \u001b[43mdialect\u001b[49m\u001b[43m.\u001b[49m\u001b[43mdo_execute\u001b[49m\u001b[43m(\u001b[49m\n\u001b[32m   2115\u001b[39m \u001b[43m            \u001b[49m\u001b[43mcursor\u001b[49m\u001b[43m,\u001b[49m\n\u001b[32m   2116\u001b[39m \u001b[43m            \u001b[49m\u001b[43msub_stmt\u001b[49m\u001b[43m,\u001b[49m\n\u001b[32m   2117\u001b[39m \u001b[43m            \u001b[49m\u001b[43msub_params\u001b[49m\u001b[43m,\u001b[49m\n\u001b[32m   2118\u001b[39m \u001b[43m            \u001b[49m\u001b[43mcontext\u001b[49m\u001b[43m,\u001b[49m\n\u001b[32m   2119\u001b[39m \u001b[43m        \u001b[49m\u001b[43m)\u001b[49m\n\u001b[32m   2121\u001b[39m \u001b[38;5;28;01mexcept\u001b[39;00m \u001b[38;5;167;01mBaseException\u001b[39;00m \u001b[38;5;28;01mas\u001b[39;00m e:\n",
      "\u001b[36mFile \u001b[39m\u001b[32me:\\Rise_Employee_Management_System\\rise_env\\Lib\\site-packages\\sqlalchemy\\engine\\default.py:943\u001b[39m, in \u001b[36mDefaultDialect.do_execute\u001b[39m\u001b[34m(self, cursor, statement, parameters, context)\u001b[39m\n\u001b[32m    942\u001b[39m \u001b[38;5;28;01mdef\u001b[39;00m\u001b[38;5;250m \u001b[39m\u001b[34mdo_execute\u001b[39m(\u001b[38;5;28mself\u001b[39m, cursor, statement, parameters, context=\u001b[38;5;28;01mNone\u001b[39;00m):\n\u001b[32m--> \u001b[39m\u001b[32m943\u001b[39m     cursor.execute(statement, parameters)\n",
      "\u001b[31mIntegrityError\u001b[39m: UNIQUE constraint failed: users.full_name",
      "\nThe above exception was the direct cause of the following exception:\n",
      "\u001b[31mIntegrityError\u001b[39m                            Traceback (most recent call last)",
      "\u001b[36mCell\u001b[39m\u001b[36m \u001b[39m\u001b[32mIn[4]\u001b[39m\u001b[32m, line 7\u001b[39m\n\u001b[32m      4\u001b[39m employee2 = User(full_name=\u001b[33m\"\u001b[39m\u001b[33mTaylor Smith\u001b[39m\u001b[33m\"\u001b[39m, role=\u001b[33m\"\u001b[39m\u001b[33memployee\u001b[39m\u001b[33m\"\u001b[39m, team=\u001b[33m\"\u001b[39m\u001b[33mEngineering\u001b[39m\u001b[33m\"\u001b[39m)\n\u001b[32m      6\u001b[39m session.add_all([manager, employee1, employee2])\n\u001b[32m----> \u001b[39m\u001b[32m7\u001b[39m \u001b[43msession\u001b[49m\u001b[43m.\u001b[49m\u001b[43mcommit\u001b[49m\u001b[43m(\u001b[49m\u001b[43m)\u001b[49m\n\u001b[32m      9\u001b[39m \u001b[38;5;66;03m# --- DAILY UPDATES ---\u001b[39;00m\n\u001b[32m     10\u001b[39m update1 = DailyUpdate(\n\u001b[32m     11\u001b[39m     user_id=employee1.id,\n\u001b[32m     12\u001b[39m     date=date(\u001b[32m2025\u001b[39m, \u001b[32m6\u001b[39m, \u001b[32m12\u001b[39m),\n\u001b[32m   (...)\u001b[39m\u001b[32m     16\u001b[39m     comment=\u001b[33m\"\u001b[39m\u001b[33mNeed review from security team\u001b[39m\u001b[33m\"\u001b[39m\n\u001b[32m     17\u001b[39m )\n",
      "\u001b[36mFile \u001b[39m\u001b[32me:\\Rise_Employee_Management_System\\rise_env\\Lib\\site-packages\\sqlalchemy\\orm\\session.py:2032\u001b[39m, in \u001b[36mSession.commit\u001b[39m\u001b[34m(self)\u001b[39m\n\u001b[32m   2029\u001b[39m \u001b[38;5;28;01mif\u001b[39;00m trans \u001b[38;5;129;01mis\u001b[39;00m \u001b[38;5;28;01mNone\u001b[39;00m:\n\u001b[32m   2030\u001b[39m     trans = \u001b[38;5;28mself\u001b[39m._autobegin_t()\n\u001b[32m-> \u001b[39m\u001b[32m2032\u001b[39m \u001b[43mtrans\u001b[49m\u001b[43m.\u001b[49m\u001b[43mcommit\u001b[49m\u001b[43m(\u001b[49m\u001b[43m_to_root\u001b[49m\u001b[43m=\u001b[49m\u001b[38;5;28;43;01mTrue\u001b[39;49;00m\u001b[43m)\u001b[49m\n",
      "\u001b[36mFile \u001b[39m\u001b[32m<string>:2\u001b[39m, in \u001b[36mcommit\u001b[39m\u001b[34m(self, _to_root)\u001b[39m\n",
      "\u001b[36mFile \u001b[39m\u001b[32me:\\Rise_Employee_Management_System\\rise_env\\Lib\\site-packages\\sqlalchemy\\orm\\state_changes.py:139\u001b[39m, in \u001b[36m_StateChange.declare_states.<locals>._go\u001b[39m\u001b[34m(fn, self, *arg, **kw)\u001b[39m\n\u001b[32m    137\u001b[39m \u001b[38;5;28mself\u001b[39m._next_state = _StateChangeStates.CHANGE_IN_PROGRESS\n\u001b[32m    138\u001b[39m \u001b[38;5;28;01mtry\u001b[39;00m:\n\u001b[32m--> \u001b[39m\u001b[32m139\u001b[39m     ret_value = \u001b[43mfn\u001b[49m\u001b[43m(\u001b[49m\u001b[38;5;28;43mself\u001b[39;49m\u001b[43m,\u001b[49m\u001b[43m \u001b[49m\u001b[43m*\u001b[49m\u001b[43marg\u001b[49m\u001b[43m,\u001b[49m\u001b[43m \u001b[49m\u001b[43m*\u001b[49m\u001b[43m*\u001b[49m\u001b[43mkw\u001b[49m\u001b[43m)\u001b[49m\n\u001b[32m    140\u001b[39m \u001b[38;5;28;01mexcept\u001b[39;00m:\n\u001b[32m    141\u001b[39m     \u001b[38;5;28;01mraise\u001b[39;00m\n",
      "\u001b[36mFile \u001b[39m\u001b[32me:\\Rise_Employee_Management_System\\rise_env\\Lib\\site-packages\\sqlalchemy\\orm\\session.py:1313\u001b[39m, in \u001b[36mSessionTransaction.commit\u001b[39m\u001b[34m(self, _to_root)\u001b[39m\n\u001b[32m   1311\u001b[39m \u001b[38;5;28;01mif\u001b[39;00m \u001b[38;5;28mself\u001b[39m._state \u001b[38;5;129;01mis\u001b[39;00m \u001b[38;5;129;01mnot\u001b[39;00m SessionTransactionState.PREPARED:\n\u001b[32m   1312\u001b[39m     \u001b[38;5;28;01mwith\u001b[39;00m \u001b[38;5;28mself\u001b[39m._expect_state(SessionTransactionState.PREPARED):\n\u001b[32m-> \u001b[39m\u001b[32m1313\u001b[39m         \u001b[38;5;28;43mself\u001b[39;49m\u001b[43m.\u001b[49m\u001b[43m_prepare_impl\u001b[49m\u001b[43m(\u001b[49m\u001b[43m)\u001b[49m\n\u001b[32m   1315\u001b[39m \u001b[38;5;28;01mif\u001b[39;00m \u001b[38;5;28mself\u001b[39m._parent \u001b[38;5;129;01mis\u001b[39;00m \u001b[38;5;28;01mNone\u001b[39;00m \u001b[38;5;129;01mor\u001b[39;00m \u001b[38;5;28mself\u001b[39m.nested:\n\u001b[32m   1316\u001b[39m     \u001b[38;5;28;01mfor\u001b[39;00m conn, trans, should_commit, autoclose \u001b[38;5;129;01min\u001b[39;00m \u001b[38;5;28mset\u001b[39m(\n\u001b[32m   1317\u001b[39m         \u001b[38;5;28mself\u001b[39m._connections.values()\n\u001b[32m   1318\u001b[39m     ):\n",
      "\u001b[36mFile \u001b[39m\u001b[32m<string>:2\u001b[39m, in \u001b[36m_prepare_impl\u001b[39m\u001b[34m(self)\u001b[39m\n",
      "\u001b[36mFile \u001b[39m\u001b[32me:\\Rise_Employee_Management_System\\rise_env\\Lib\\site-packages\\sqlalchemy\\orm\\state_changes.py:139\u001b[39m, in \u001b[36m_StateChange.declare_states.<locals>._go\u001b[39m\u001b[34m(fn, self, *arg, **kw)\u001b[39m\n\u001b[32m    137\u001b[39m \u001b[38;5;28mself\u001b[39m._next_state = _StateChangeStates.CHANGE_IN_PROGRESS\n\u001b[32m    138\u001b[39m \u001b[38;5;28;01mtry\u001b[39;00m:\n\u001b[32m--> \u001b[39m\u001b[32m139\u001b[39m     ret_value = \u001b[43mfn\u001b[49m\u001b[43m(\u001b[49m\u001b[38;5;28;43mself\u001b[39;49m\u001b[43m,\u001b[49m\u001b[43m \u001b[49m\u001b[43m*\u001b[49m\u001b[43marg\u001b[49m\u001b[43m,\u001b[49m\u001b[43m \u001b[49m\u001b[43m*\u001b[49m\u001b[43m*\u001b[49m\u001b[43mkw\u001b[49m\u001b[43m)\u001b[49m\n\u001b[32m    140\u001b[39m \u001b[38;5;28;01mexcept\u001b[39;00m:\n\u001b[32m    141\u001b[39m     \u001b[38;5;28;01mraise\u001b[39;00m\n",
      "\u001b[36mFile \u001b[39m\u001b[32me:\\Rise_Employee_Management_System\\rise_env\\Lib\\site-packages\\sqlalchemy\\orm\\session.py:1288\u001b[39m, in \u001b[36mSessionTransaction._prepare_impl\u001b[39m\u001b[34m(self)\u001b[39m\n\u001b[32m   1286\u001b[39m     \u001b[38;5;28;01mif\u001b[39;00m \u001b[38;5;28mself\u001b[39m.session._is_clean():\n\u001b[32m   1287\u001b[39m         \u001b[38;5;28;01mbreak\u001b[39;00m\n\u001b[32m-> \u001b[39m\u001b[32m1288\u001b[39m     \u001b[38;5;28;43mself\u001b[39;49m\u001b[43m.\u001b[49m\u001b[43msession\u001b[49m\u001b[43m.\u001b[49m\u001b[43mflush\u001b[49m\u001b[43m(\u001b[49m\u001b[43m)\u001b[49m\n\u001b[32m   1289\u001b[39m \u001b[38;5;28;01melse\u001b[39;00m:\n\u001b[32m   1290\u001b[39m     \u001b[38;5;28;01mraise\u001b[39;00m exc.FlushError(\n\u001b[32m   1291\u001b[39m         \u001b[33m\"\u001b[39m\u001b[33mOver 100 subsequent flushes have occurred within \u001b[39m\u001b[33m\"\u001b[39m\n\u001b[32m   1292\u001b[39m         \u001b[33m\"\u001b[39m\u001b[33msession.commit() - is an after_flush() hook \u001b[39m\u001b[33m\"\u001b[39m\n\u001b[32m   1293\u001b[39m         \u001b[33m\"\u001b[39m\u001b[33mcreating new objects?\u001b[39m\u001b[33m\"\u001b[39m\n\u001b[32m   1294\u001b[39m     )\n",
      "\u001b[36mFile \u001b[39m\u001b[32me:\\Rise_Employee_Management_System\\rise_env\\Lib\\site-packages\\sqlalchemy\\orm\\session.py:4345\u001b[39m, in \u001b[36mSession.flush\u001b[39m\u001b[34m(self, objects)\u001b[39m\n\u001b[32m   4343\u001b[39m \u001b[38;5;28;01mtry\u001b[39;00m:\n\u001b[32m   4344\u001b[39m     \u001b[38;5;28mself\u001b[39m._flushing = \u001b[38;5;28;01mTrue\u001b[39;00m\n\u001b[32m-> \u001b[39m\u001b[32m4345\u001b[39m     \u001b[38;5;28;43mself\u001b[39;49m\u001b[43m.\u001b[49m\u001b[43m_flush\u001b[49m\u001b[43m(\u001b[49m\u001b[43mobjects\u001b[49m\u001b[43m)\u001b[49m\n\u001b[32m   4346\u001b[39m \u001b[38;5;28;01mfinally\u001b[39;00m:\n\u001b[32m   4347\u001b[39m     \u001b[38;5;28mself\u001b[39m._flushing = \u001b[38;5;28;01mFalse\u001b[39;00m\n",
      "\u001b[36mFile \u001b[39m\u001b[32me:\\Rise_Employee_Management_System\\rise_env\\Lib\\site-packages\\sqlalchemy\\orm\\session.py:4480\u001b[39m, in \u001b[36mSession._flush\u001b[39m\u001b[34m(self, objects)\u001b[39m\n\u001b[32m   4477\u001b[39m     transaction.commit()\n\u001b[32m   4479\u001b[39m \u001b[38;5;28;01mexcept\u001b[39;00m:\n\u001b[32m-> \u001b[39m\u001b[32m4480\u001b[39m \u001b[43m    \u001b[49m\u001b[38;5;28;43;01mwith\u001b[39;49;00m\u001b[43m \u001b[49m\u001b[43mutil\u001b[49m\u001b[43m.\u001b[49m\u001b[43msafe_reraise\u001b[49m\u001b[43m(\u001b[49m\u001b[43m)\u001b[49m\u001b[43m:\u001b[49m\n\u001b[32m   4481\u001b[39m \u001b[43m        \u001b[49m\u001b[43mtransaction\u001b[49m\u001b[43m.\u001b[49m\u001b[43mrollback\u001b[49m\u001b[43m(\u001b[49m\u001b[43m_capture_exception\u001b[49m\u001b[43m=\u001b[49m\u001b[38;5;28;43;01mTrue\u001b[39;49;00m\u001b[43m)\u001b[49m\n",
      "\u001b[36mFile \u001b[39m\u001b[32me:\\Rise_Employee_Management_System\\rise_env\\Lib\\site-packages\\sqlalchemy\\util\\langhelpers.py:224\u001b[39m, in \u001b[36msafe_reraise.__exit__\u001b[39m\u001b[34m(self, type_, value, traceback)\u001b[39m\n\u001b[32m    222\u001b[39m     \u001b[38;5;28;01massert\u001b[39;00m exc_value \u001b[38;5;129;01mis\u001b[39;00m \u001b[38;5;129;01mnot\u001b[39;00m \u001b[38;5;28;01mNone\u001b[39;00m\n\u001b[32m    223\u001b[39m     \u001b[38;5;28mself\u001b[39m._exc_info = \u001b[38;5;28;01mNone\u001b[39;00m  \u001b[38;5;66;03m# remove potential circular references\u001b[39;00m\n\u001b[32m--> \u001b[39m\u001b[32m224\u001b[39m     \u001b[38;5;28;01mraise\u001b[39;00m exc_value.with_traceback(exc_tb)\n\u001b[32m    225\u001b[39m \u001b[38;5;28;01melse\u001b[39;00m:\n\u001b[32m    226\u001b[39m     \u001b[38;5;28mself\u001b[39m._exc_info = \u001b[38;5;28;01mNone\u001b[39;00m  \u001b[38;5;66;03m# remove potential circular references\u001b[39;00m\n",
      "\u001b[36mFile \u001b[39m\u001b[32me:\\Rise_Employee_Management_System\\rise_env\\Lib\\site-packages\\sqlalchemy\\orm\\session.py:4441\u001b[39m, in \u001b[36mSession._flush\u001b[39m\u001b[34m(self, objects)\u001b[39m\n\u001b[32m   4439\u001b[39m \u001b[38;5;28mself\u001b[39m._warn_on_events = \u001b[38;5;28;01mTrue\u001b[39;00m\n\u001b[32m   4440\u001b[39m \u001b[38;5;28;01mtry\u001b[39;00m:\n\u001b[32m-> \u001b[39m\u001b[32m4441\u001b[39m     \u001b[43mflush_context\u001b[49m\u001b[43m.\u001b[49m\u001b[43mexecute\u001b[49m\u001b[43m(\u001b[49m\u001b[43m)\u001b[49m\n\u001b[32m   4442\u001b[39m \u001b[38;5;28;01mfinally\u001b[39;00m:\n\u001b[32m   4443\u001b[39m     \u001b[38;5;28mself\u001b[39m._warn_on_events = \u001b[38;5;28;01mFalse\u001b[39;00m\n",
      "\u001b[36mFile \u001b[39m\u001b[32me:\\Rise_Employee_Management_System\\rise_env\\Lib\\site-packages\\sqlalchemy\\orm\\unitofwork.py:466\u001b[39m, in \u001b[36mUOWTransaction.execute\u001b[39m\u001b[34m(self)\u001b[39m\n\u001b[32m    464\u001b[39m \u001b[38;5;28;01melse\u001b[39;00m:\n\u001b[32m    465\u001b[39m     \u001b[38;5;28;01mfor\u001b[39;00m rec \u001b[38;5;129;01min\u001b[39;00m topological.sort(\u001b[38;5;28mself\u001b[39m.dependencies, postsort_actions):\n\u001b[32m--> \u001b[39m\u001b[32m466\u001b[39m         \u001b[43mrec\u001b[49m\u001b[43m.\u001b[49m\u001b[43mexecute\u001b[49m\u001b[43m(\u001b[49m\u001b[38;5;28;43mself\u001b[39;49m\u001b[43m)\u001b[49m\n",
      "\u001b[36mFile \u001b[39m\u001b[32me:\\Rise_Employee_Management_System\\rise_env\\Lib\\site-packages\\sqlalchemy\\orm\\unitofwork.py:642\u001b[39m, in \u001b[36mSaveUpdateAll.execute\u001b[39m\u001b[34m(self, uow)\u001b[39m\n\u001b[32m    640\u001b[39m \u001b[38;5;129m@util\u001b[39m.preload_module(\u001b[33m\"\u001b[39m\u001b[33msqlalchemy.orm.persistence\u001b[39m\u001b[33m\"\u001b[39m)\n\u001b[32m    641\u001b[39m \u001b[38;5;28;01mdef\u001b[39;00m\u001b[38;5;250m \u001b[39m\u001b[34mexecute\u001b[39m(\u001b[38;5;28mself\u001b[39m, uow):\n\u001b[32m--> \u001b[39m\u001b[32m642\u001b[39m     \u001b[43mutil\u001b[49m\u001b[43m.\u001b[49m\u001b[43mpreloaded\u001b[49m\u001b[43m.\u001b[49m\u001b[43morm_persistence\u001b[49m\u001b[43m.\u001b[49m\u001b[43msave_obj\u001b[49m\u001b[43m(\u001b[49m\n\u001b[32m    643\u001b[39m \u001b[43m        \u001b[49m\u001b[38;5;28;43mself\u001b[39;49m\u001b[43m.\u001b[49m\u001b[43mmapper\u001b[49m\u001b[43m,\u001b[49m\n\u001b[32m    644\u001b[39m \u001b[43m        \u001b[49m\u001b[43muow\u001b[49m\u001b[43m.\u001b[49m\u001b[43mstates_for_mapper_hierarchy\u001b[49m\u001b[43m(\u001b[49m\u001b[38;5;28;43mself\u001b[39;49m\u001b[43m.\u001b[49m\u001b[43mmapper\u001b[49m\u001b[43m,\u001b[49m\u001b[43m \u001b[49m\u001b[38;5;28;43;01mFalse\u001b[39;49;00m\u001b[43m,\u001b[49m\u001b[43m \u001b[49m\u001b[38;5;28;43;01mFalse\u001b[39;49;00m\u001b[43m)\u001b[49m\u001b[43m,\u001b[49m\n\u001b[32m    645\u001b[39m \u001b[43m        \u001b[49m\u001b[43muow\u001b[49m\u001b[43m,\u001b[49m\n\u001b[32m    646\u001b[39m \u001b[43m    \u001b[49m\u001b[43m)\u001b[49m\n",
      "\u001b[36mFile \u001b[39m\u001b[32me:\\Rise_Employee_Management_System\\rise_env\\Lib\\site-packages\\sqlalchemy\\orm\\persistence.py:93\u001b[39m, in \u001b[36msave_obj\u001b[39m\u001b[34m(base_mapper, states, uowtransaction, single)\u001b[39m\n\u001b[32m     81\u001b[39m     update = _collect_update_commands(\n\u001b[32m     82\u001b[39m         uowtransaction, table, states_to_update\n\u001b[32m     83\u001b[39m     )\n\u001b[32m     85\u001b[39m     _emit_update_statements(\n\u001b[32m     86\u001b[39m         base_mapper,\n\u001b[32m     87\u001b[39m         uowtransaction,\n\u001b[32m   (...)\u001b[39m\u001b[32m     90\u001b[39m         update,\n\u001b[32m     91\u001b[39m     )\n\u001b[32m---> \u001b[39m\u001b[32m93\u001b[39m     \u001b[43m_emit_insert_statements\u001b[49m\u001b[43m(\u001b[49m\n\u001b[32m     94\u001b[39m \u001b[43m        \u001b[49m\u001b[43mbase_mapper\u001b[49m\u001b[43m,\u001b[49m\n\u001b[32m     95\u001b[39m \u001b[43m        \u001b[49m\u001b[43muowtransaction\u001b[49m\u001b[43m,\u001b[49m\n\u001b[32m     96\u001b[39m \u001b[43m        \u001b[49m\u001b[43mmapper\u001b[49m\u001b[43m,\u001b[49m\n\u001b[32m     97\u001b[39m \u001b[43m        \u001b[49m\u001b[43mtable\u001b[49m\u001b[43m,\u001b[49m\n\u001b[32m     98\u001b[39m \u001b[43m        \u001b[49m\u001b[43minsert\u001b[49m\u001b[43m,\u001b[49m\n\u001b[32m     99\u001b[39m \u001b[43m    \u001b[49m\u001b[43m)\u001b[49m\n\u001b[32m    101\u001b[39m _finalize_insert_update_commands(\n\u001b[32m    102\u001b[39m     base_mapper,\n\u001b[32m    103\u001b[39m     uowtransaction,\n\u001b[32m   (...)\u001b[39m\u001b[32m    119\u001b[39m     ),\n\u001b[32m    120\u001b[39m )\n",
      "\u001b[36mFile \u001b[39m\u001b[32me:\\Rise_Employee_Management_System\\rise_env\\Lib\\site-packages\\sqlalchemy\\orm\\persistence.py:1143\u001b[39m, in \u001b[36m_emit_insert_statements\u001b[39m\u001b[34m(base_mapper, uowtransaction, mapper, table, insert, bookkeeping, use_orm_insert_stmt, execution_options)\u001b[39m\n\u001b[32m   1140\u001b[39m \u001b[38;5;28;01mif\u001b[39;00m do_executemany:\n\u001b[32m   1141\u001b[39m     multiparams = [rec[\u001b[32m2\u001b[39m] \u001b[38;5;28;01mfor\u001b[39;00m rec \u001b[38;5;129;01min\u001b[39;00m records]\n\u001b[32m-> \u001b[39m\u001b[32m1143\u001b[39m     result = \u001b[43mconnection\u001b[49m\u001b[43m.\u001b[49m\u001b[43mexecute\u001b[49m\u001b[43m(\u001b[49m\n\u001b[32m   1144\u001b[39m \u001b[43m        \u001b[49m\u001b[43mstatement\u001b[49m\u001b[43m,\u001b[49m\u001b[43m \u001b[49m\u001b[43mmultiparams\u001b[49m\u001b[43m,\u001b[49m\u001b[43m \u001b[49m\u001b[43mexecution_options\u001b[49m\u001b[43m=\u001b[49m\u001b[43mexecution_options\u001b[49m\n\u001b[32m   1145\u001b[39m \u001b[43m    \u001b[49m\u001b[43m)\u001b[49m\n\u001b[32m   1147\u001b[39m     \u001b[38;5;28;01mif\u001b[39;00m use_orm_insert_stmt \u001b[38;5;129;01mis\u001b[39;00m \u001b[38;5;129;01mnot\u001b[39;00m \u001b[38;5;28;01mNone\u001b[39;00m:\n\u001b[32m   1148\u001b[39m         \u001b[38;5;28;01mif\u001b[39;00m return_result \u001b[38;5;129;01mis\u001b[39;00m \u001b[38;5;28;01mNone\u001b[39;00m:\n",
      "\u001b[36mFile \u001b[39m\u001b[32me:\\Rise_Employee_Management_System\\rise_env\\Lib\\site-packages\\sqlalchemy\\engine\\base.py:1415\u001b[39m, in \u001b[36mConnection.execute\u001b[39m\u001b[34m(self, statement, parameters, execution_options)\u001b[39m\n\u001b[32m   1413\u001b[39m     \u001b[38;5;28;01mraise\u001b[39;00m exc.ObjectNotExecutableError(statement) \u001b[38;5;28;01mfrom\u001b[39;00m\u001b[38;5;250m \u001b[39m\u001b[34;01merr\u001b[39;00m\n\u001b[32m   1414\u001b[39m \u001b[38;5;28;01melse\u001b[39;00m:\n\u001b[32m-> \u001b[39m\u001b[32m1415\u001b[39m     \u001b[38;5;28;01mreturn\u001b[39;00m \u001b[43mmeth\u001b[49m\u001b[43m(\u001b[49m\n\u001b[32m   1416\u001b[39m \u001b[43m        \u001b[49m\u001b[38;5;28;43mself\u001b[39;49m\u001b[43m,\u001b[49m\n\u001b[32m   1417\u001b[39m \u001b[43m        \u001b[49m\u001b[43mdistilled_parameters\u001b[49m\u001b[43m,\u001b[49m\n\u001b[32m   1418\u001b[39m \u001b[43m        \u001b[49m\u001b[43mexecution_options\u001b[49m\u001b[43m \u001b[49m\u001b[38;5;129;43;01mor\u001b[39;49;00m\u001b[43m \u001b[49m\u001b[43mNO_OPTIONS\u001b[49m\u001b[43m,\u001b[49m\n\u001b[32m   1419\u001b[39m \u001b[43m    \u001b[49m\u001b[43m)\u001b[49m\n",
      "\u001b[36mFile \u001b[39m\u001b[32me:\\Rise_Employee_Management_System\\rise_env\\Lib\\site-packages\\sqlalchemy\\sql\\elements.py:523\u001b[39m, in \u001b[36mClauseElement._execute_on_connection\u001b[39m\u001b[34m(self, connection, distilled_params, execution_options)\u001b[39m\n\u001b[32m    521\u001b[39m     \u001b[38;5;28;01mif\u001b[39;00m TYPE_CHECKING:\n\u001b[32m    522\u001b[39m         \u001b[38;5;28;01massert\u001b[39;00m \u001b[38;5;28misinstance\u001b[39m(\u001b[38;5;28mself\u001b[39m, Executable)\n\u001b[32m--> \u001b[39m\u001b[32m523\u001b[39m     \u001b[38;5;28;01mreturn\u001b[39;00m \u001b[43mconnection\u001b[49m\u001b[43m.\u001b[49m\u001b[43m_execute_clauseelement\u001b[49m\u001b[43m(\u001b[49m\n\u001b[32m    524\u001b[39m \u001b[43m        \u001b[49m\u001b[38;5;28;43mself\u001b[39;49m\u001b[43m,\u001b[49m\u001b[43m \u001b[49m\u001b[43mdistilled_params\u001b[49m\u001b[43m,\u001b[49m\u001b[43m \u001b[49m\u001b[43mexecution_options\u001b[49m\n\u001b[32m    525\u001b[39m \u001b[43m    \u001b[49m\u001b[43m)\u001b[49m\n\u001b[32m    526\u001b[39m \u001b[38;5;28;01melse\u001b[39;00m:\n\u001b[32m    527\u001b[39m     \u001b[38;5;28;01mraise\u001b[39;00m exc.ObjectNotExecutableError(\u001b[38;5;28mself\u001b[39m)\n",
      "\u001b[36mFile \u001b[39m\u001b[32me:\\Rise_Employee_Management_System\\rise_env\\Lib\\site-packages\\sqlalchemy\\engine\\base.py:1637\u001b[39m, in \u001b[36mConnection._execute_clauseelement\u001b[39m\u001b[34m(self, elem, distilled_parameters, execution_options)\u001b[39m\n\u001b[32m   1625\u001b[39m compiled_cache: Optional[CompiledCacheType] = execution_options.get(\n\u001b[32m   1626\u001b[39m     \u001b[33m\"\u001b[39m\u001b[33mcompiled_cache\u001b[39m\u001b[33m\"\u001b[39m, \u001b[38;5;28mself\u001b[39m.engine._compiled_cache\n\u001b[32m   1627\u001b[39m )\n\u001b[32m   1629\u001b[39m compiled_sql, extracted_params, cache_hit = elem._compile_w_cache(\n\u001b[32m   1630\u001b[39m     dialect=dialect,\n\u001b[32m   1631\u001b[39m     compiled_cache=compiled_cache,\n\u001b[32m   (...)\u001b[39m\u001b[32m   1635\u001b[39m     linting=\u001b[38;5;28mself\u001b[39m.dialect.compiler_linting | compiler.WARN_LINTING,\n\u001b[32m   1636\u001b[39m )\n\u001b[32m-> \u001b[39m\u001b[32m1637\u001b[39m ret = \u001b[38;5;28;43mself\u001b[39;49m\u001b[43m.\u001b[49m\u001b[43m_execute_context\u001b[49m\u001b[43m(\u001b[49m\n\u001b[32m   1638\u001b[39m \u001b[43m    \u001b[49m\u001b[43mdialect\u001b[49m\u001b[43m,\u001b[49m\n\u001b[32m   1639\u001b[39m \u001b[43m    \u001b[49m\u001b[43mdialect\u001b[49m\u001b[43m.\u001b[49m\u001b[43mexecution_ctx_cls\u001b[49m\u001b[43m.\u001b[49m\u001b[43m_init_compiled\u001b[49m\u001b[43m,\u001b[49m\n\u001b[32m   1640\u001b[39m \u001b[43m    \u001b[49m\u001b[43mcompiled_sql\u001b[49m\u001b[43m,\u001b[49m\n\u001b[32m   1641\u001b[39m \u001b[43m    \u001b[49m\u001b[43mdistilled_parameters\u001b[49m\u001b[43m,\u001b[49m\n\u001b[32m   1642\u001b[39m \u001b[43m    \u001b[49m\u001b[43mexecution_options\u001b[49m\u001b[43m,\u001b[49m\n\u001b[32m   1643\u001b[39m \u001b[43m    \u001b[49m\u001b[43mcompiled_sql\u001b[49m\u001b[43m,\u001b[49m\n\u001b[32m   1644\u001b[39m \u001b[43m    \u001b[49m\u001b[43mdistilled_parameters\u001b[49m\u001b[43m,\u001b[49m\n\u001b[32m   1645\u001b[39m \u001b[43m    \u001b[49m\u001b[43melem\u001b[49m\u001b[43m,\u001b[49m\n\u001b[32m   1646\u001b[39m \u001b[43m    \u001b[49m\u001b[43mextracted_params\u001b[49m\u001b[43m,\u001b[49m\n\u001b[32m   1647\u001b[39m \u001b[43m    \u001b[49m\u001b[43mcache_hit\u001b[49m\u001b[43m=\u001b[49m\u001b[43mcache_hit\u001b[49m\u001b[43m,\u001b[49m\n\u001b[32m   1648\u001b[39m \u001b[43m\u001b[49m\u001b[43m)\u001b[49m\n\u001b[32m   1649\u001b[39m \u001b[38;5;28;01mif\u001b[39;00m has_events:\n\u001b[32m   1650\u001b[39m     \u001b[38;5;28mself\u001b[39m.dispatch.after_execute(\n\u001b[32m   1651\u001b[39m         \u001b[38;5;28mself\u001b[39m,\n\u001b[32m   1652\u001b[39m         elem,\n\u001b[32m   (...)\u001b[39m\u001b[32m   1656\u001b[39m         ret,\n\u001b[32m   1657\u001b[39m     )\n",
      "\u001b[36mFile \u001b[39m\u001b[32me:\\Rise_Employee_Management_System\\rise_env\\Lib\\site-packages\\sqlalchemy\\engine\\base.py:1840\u001b[39m, in \u001b[36mConnection._execute_context\u001b[39m\u001b[34m(self, dialect, constructor, statement, parameters, execution_options, *args, **kw)\u001b[39m\n\u001b[32m   1837\u001b[39m context.pre_exec()\n\u001b[32m   1839\u001b[39m \u001b[38;5;28;01mif\u001b[39;00m context.execute_style \u001b[38;5;129;01mis\u001b[39;00m ExecuteStyle.INSERTMANYVALUES:\n\u001b[32m-> \u001b[39m\u001b[32m1840\u001b[39m     \u001b[38;5;28;01mreturn\u001b[39;00m \u001b[38;5;28;43mself\u001b[39;49m\u001b[43m.\u001b[49m\u001b[43m_exec_insertmany_context\u001b[49m\u001b[43m(\u001b[49m\u001b[43mdialect\u001b[49m\u001b[43m,\u001b[49m\u001b[43m \u001b[49m\u001b[43mcontext\u001b[49m\u001b[43m)\u001b[49m\n\u001b[32m   1841\u001b[39m \u001b[38;5;28;01melse\u001b[39;00m:\n\u001b[32m   1842\u001b[39m     \u001b[38;5;28;01mreturn\u001b[39;00m \u001b[38;5;28mself\u001b[39m._exec_single_context(\n\u001b[32m   1843\u001b[39m         dialect, context, statement, parameters\n\u001b[32m   1844\u001b[39m     )\n",
      "\u001b[36mFile \u001b[39m\u001b[32me:\\Rise_Employee_Management_System\\rise_env\\Lib\\site-packages\\sqlalchemy\\engine\\base.py:2122\u001b[39m, in \u001b[36mConnection._exec_insertmany_context\u001b[39m\u001b[34m(self, dialect, context)\u001b[39m\n\u001b[32m   2114\u001b[39m         dialect.do_execute(\n\u001b[32m   2115\u001b[39m             cursor,\n\u001b[32m   2116\u001b[39m             sub_stmt,\n\u001b[32m   2117\u001b[39m             sub_params,\n\u001b[32m   2118\u001b[39m             context,\n\u001b[32m   2119\u001b[39m         )\n\u001b[32m   2121\u001b[39m \u001b[38;5;28;01mexcept\u001b[39;00m \u001b[38;5;167;01mBaseException\u001b[39;00m \u001b[38;5;28;01mas\u001b[39;00m e:\n\u001b[32m-> \u001b[39m\u001b[32m2122\u001b[39m     \u001b[38;5;28;43mself\u001b[39;49m\u001b[43m.\u001b[49m\u001b[43m_handle_dbapi_exception\u001b[49m\u001b[43m(\u001b[49m\n\u001b[32m   2123\u001b[39m \u001b[43m        \u001b[49m\u001b[43me\u001b[49m\u001b[43m,\u001b[49m\n\u001b[32m   2124\u001b[39m \u001b[43m        \u001b[49m\u001b[43msql_util\u001b[49m\u001b[43m.\u001b[49m\u001b[43m_long_statement\u001b[49m\u001b[43m(\u001b[49m\u001b[43msub_stmt\u001b[49m\u001b[43m)\u001b[49m\u001b[43m,\u001b[49m\n\u001b[32m   2125\u001b[39m \u001b[43m        \u001b[49m\u001b[43msub_params\u001b[49m\u001b[43m,\u001b[49m\n\u001b[32m   2126\u001b[39m \u001b[43m        \u001b[49m\u001b[43mcursor\u001b[49m\u001b[43m,\u001b[49m\n\u001b[32m   2127\u001b[39m \u001b[43m        \u001b[49m\u001b[43mcontext\u001b[49m\u001b[43m,\u001b[49m\n\u001b[32m   2128\u001b[39m \u001b[43m        \u001b[49m\u001b[43mis_sub_exec\u001b[49m\u001b[43m=\u001b[49m\u001b[38;5;28;43;01mTrue\u001b[39;49;00m\u001b[43m,\u001b[49m\n\u001b[32m   2129\u001b[39m \u001b[43m    \u001b[49m\u001b[43m)\u001b[49m\n\u001b[32m   2131\u001b[39m \u001b[38;5;28;01mif\u001b[39;00m engine_events:\n\u001b[32m   2132\u001b[39m     \u001b[38;5;28mself\u001b[39m.dispatch.after_cursor_execute(\n\u001b[32m   2133\u001b[39m         \u001b[38;5;28mself\u001b[39m,\n\u001b[32m   2134\u001b[39m         cursor,\n\u001b[32m   (...)\u001b[39m\u001b[32m   2138\u001b[39m         context.executemany,\n\u001b[32m   2139\u001b[39m     )\n",
      "\u001b[36mFile \u001b[39m\u001b[32me:\\Rise_Employee_Management_System\\rise_env\\Lib\\site-packages\\sqlalchemy\\engine\\base.py:2351\u001b[39m, in \u001b[36mConnection._handle_dbapi_exception\u001b[39m\u001b[34m(self, e, statement, parameters, cursor, context, is_sub_exec)\u001b[39m\n\u001b[32m   2349\u001b[39m \u001b[38;5;28;01melif\u001b[39;00m should_wrap:\n\u001b[32m   2350\u001b[39m     \u001b[38;5;28;01massert\u001b[39;00m sqlalchemy_exception \u001b[38;5;129;01mis\u001b[39;00m \u001b[38;5;129;01mnot\u001b[39;00m \u001b[38;5;28;01mNone\u001b[39;00m\n\u001b[32m-> \u001b[39m\u001b[32m2351\u001b[39m     \u001b[38;5;28;01mraise\u001b[39;00m sqlalchemy_exception.with_traceback(exc_info[\u001b[32m2\u001b[39m]) \u001b[38;5;28;01mfrom\u001b[39;00m\u001b[38;5;250m \u001b[39m\u001b[34;01me\u001b[39;00m\n\u001b[32m   2352\u001b[39m \u001b[38;5;28;01melse\u001b[39;00m:\n\u001b[32m   2353\u001b[39m     \u001b[38;5;28;01massert\u001b[39;00m exc_info[\u001b[32m1\u001b[39m] \u001b[38;5;129;01mis\u001b[39;00m \u001b[38;5;129;01mnot\u001b[39;00m \u001b[38;5;28;01mNone\u001b[39;00m\n",
      "\u001b[36mFile \u001b[39m\u001b[32me:\\Rise_Employee_Management_System\\rise_env\\Lib\\site-packages\\sqlalchemy\\engine\\base.py:2114\u001b[39m, in \u001b[36mConnection._exec_insertmany_context\u001b[39m\u001b[34m(self, dialect, context)\u001b[39m\n\u001b[32m   2112\u001b[39m             \u001b[38;5;28;01mbreak\u001b[39;00m\n\u001b[32m   2113\u001b[39m     \u001b[38;5;28;01melse\u001b[39;00m:\n\u001b[32m-> \u001b[39m\u001b[32m2114\u001b[39m         \u001b[43mdialect\u001b[49m\u001b[43m.\u001b[49m\u001b[43mdo_execute\u001b[49m\u001b[43m(\u001b[49m\n\u001b[32m   2115\u001b[39m \u001b[43m            \u001b[49m\u001b[43mcursor\u001b[49m\u001b[43m,\u001b[49m\n\u001b[32m   2116\u001b[39m \u001b[43m            \u001b[49m\u001b[43msub_stmt\u001b[49m\u001b[43m,\u001b[49m\n\u001b[32m   2117\u001b[39m \u001b[43m            \u001b[49m\u001b[43msub_params\u001b[49m\u001b[43m,\u001b[49m\n\u001b[32m   2118\u001b[39m \u001b[43m            \u001b[49m\u001b[43mcontext\u001b[49m\u001b[43m,\u001b[49m\n\u001b[32m   2119\u001b[39m \u001b[43m        \u001b[49m\u001b[43m)\u001b[49m\n\u001b[32m   2121\u001b[39m \u001b[38;5;28;01mexcept\u001b[39;00m \u001b[38;5;167;01mBaseException\u001b[39;00m \u001b[38;5;28;01mas\u001b[39;00m e:\n\u001b[32m   2122\u001b[39m     \u001b[38;5;28mself\u001b[39m._handle_dbapi_exception(\n\u001b[32m   2123\u001b[39m         e,\n\u001b[32m   2124\u001b[39m         sql_util._long_statement(sub_stmt),\n\u001b[32m   (...)\u001b[39m\u001b[32m   2128\u001b[39m         is_sub_exec=\u001b[38;5;28;01mTrue\u001b[39;00m,\n\u001b[32m   2129\u001b[39m     )\n",
      "\u001b[36mFile \u001b[39m\u001b[32me:\\Rise_Employee_Management_System\\rise_env\\Lib\\site-packages\\sqlalchemy\\engine\\default.py:943\u001b[39m, in \u001b[36mDefaultDialect.do_execute\u001b[39m\u001b[34m(self, cursor, statement, parameters, context)\u001b[39m\n\u001b[32m    942\u001b[39m \u001b[38;5;28;01mdef\u001b[39;00m\u001b[38;5;250m \u001b[39m\u001b[34mdo_execute\u001b[39m(\u001b[38;5;28mself\u001b[39m, cursor, statement, parameters, context=\u001b[38;5;28;01mNone\u001b[39;00m):\n\u001b[32m--> \u001b[39m\u001b[32m943\u001b[39m     cursor.execute(statement, parameters)\n",
      "\u001b[31mIntegrityError\u001b[39m: (sqlite3.IntegrityError) UNIQUE constraint failed: users.full_name\n[SQL: INSERT INTO users (full_name, role, team) VALUES (?, ?, ?) RETURNING id]\n[parameters: ('Alice Johnson', 'manager', 'Engineering')]\n(Background on this error at: https://sqlalche.me/e/20/gkpj)"
     ]
    }
   ],
   "source": [
    "# --- USERS ---\n",
    "manager = User(full_name=\"Alice Johnson\", role=\"manager\", team=\"Engineering\")\n",
    "employee1 = User(full_name=\"Sam Wilson\", role=\"employee\", team=\"Engineering\")\n",
    "employee2 = User(full_name=\"Taylor Smith\", role=\"employee\", team=\"Engineering\")\n",
    "\n",
    "session.add_all([manager, employee1, employee2])\n",
    "session.commit()\n",
    "\n",
    "# --- DAILY UPDATES ---\n",
    "update1 = DailyUpdate(\n",
    "    user_id=employee1.id,\n",
    "    date=date(2025, 6, 12),\n",
    "    title=\"Security Patch Deployment\",\n",
    "    work_done=\"Applied critical patches to production systems.\",\n",
    "    reference_links=\"https://github.com/org/repo/pull/123\",\n",
    "    comment=\"Need review from security team\"\n",
    ")\n",
    "\n",
    "update2 = DailyUpdate(\n",
    "    user_id=employee2.id,\n",
    "    date=date(2025, 6, 13),\n",
    "    title=\"UI Redesign\",\n",
    "    work_done=\"Completed new dashboard design in Figma.\",\n",
    "    reference_links=\"https://figma.com/file/xyz\",\n",
    "    comment=None\n",
    ")\n",
    "\n",
    "session.add_all([update1, update2])\n",
    "session.commit()\n",
    "\n",
    "# --- TASKS ---\n",
    "task1 = Task(\n",
    "    title=\"Optimize DB Queries\",\n",
    "    description=\"Refactor ORM queries for better performance.\",\n",
    "    due_date=date(2025, 6, 20),\n",
    "    assigned_by_id=manager.id,\n",
    "    assigned_to_id=employee1.id\n",
    ")\n",
    "\n",
    "task2 = Task(\n",
    "    title=\"Update CI/CD Pipeline\",\n",
    "    description=\"Migrate from Jenkins to GitHub Actions.\",\n",
    "    due_date=date(2025, 6, 22),\n",
    "    assigned_by_id=manager.id,\n",
    "    assigned_to_id=employee2.id\n",
    ")\n",
    "\n",
    "session.add_all([task1, task2])\n",
    "session.commit()\n",
    "\n",
    "print(\"✅ Dummy data (users, updates, tasks) inserted into employee_task2.db.\")\n"
   ]
  },
  {
   "cell_type": "code",
   "execution_count": null,
   "id": "938cfa40",
   "metadata": {},
   "outputs": [
    {
     "name": "stdout",
     "output_type": "stream",
     "text": [
      "1 - Alice Johnson (manager)\n",
      "2 - Sam Wilson (employee)\n",
      "3 - Taylor Smith (employee)\n",
      "2025-06-12 - Security Patch Deployment - Applied critical patches to production systems.\n",
      "2025-06-13 - UI Redesign - Completed new dashboard design in Figma.\n"
     ]
    }
   ],
   "source": [
    "session = Session()\n",
    "users = session.query(User).all()\n",
    "for u in users:\n",
    "    print(f\"{u.id} - {u.full_name} ({u.role})\")\n",
    "\n",
    "updates = session.query(DailyUpdate).all()\n",
    "for upd in updates:\n",
    "    print(f\"{upd.date} - {upd.title} - {upd.work_done}\")\n",
    "session.close()\n"
   ]
  },
  {
   "cell_type": "code",
   "execution_count": 5,
   "id": "e6dbb423",
   "metadata": {},
   "outputs": [],
   "source": [
    "from dotenv import load_dotenv\n",
    "import os\n",
    "load_dotenv()\n",
    "\n",
    "GEMINI_API_KEY = os.getenv('GEMINI_API_KEY')\n",
    "TAVILY_API_KEY = os.getenv('TAVILY_API_KEY')"
   ]
  },
  {
   "cell_type": "code",
   "execution_count": 6,
   "id": "9a641360",
   "metadata": {},
   "outputs": [
    {
     "name": "stderr",
     "output_type": "stream",
     "text": [
      "e:\\Rise_Employee_Management_System\\rise_env\\Lib\\site-packages\\tqdm\\auto.py:21: TqdmWarning: IProgress not found. Please update jupyter and ipywidgets. See https://ipywidgets.readthedocs.io/en/stable/user_install.html\n",
      "  from .autonotebook import tqdm as notebook_tqdm\n"
     ]
    }
   ],
   "source": [
    "from langchain_google_genai import ChatGoogleGenerativeAI\n",
    "\n",
    "llm = ChatGoogleGenerativeAI(model=\"gemini-2.0-flash\",\n",
    "                            google_api_key=GEMINI_API_KEY , \n",
    "                            temperature=0.7)"
   ]
  },
  {
   "cell_type": "code",
   "execution_count": 7,
   "id": "e8b63ac3",
   "metadata": {},
   "outputs": [],
   "source": [
    "def llm_call(prompt: str) -> str:\n",
    "    response = llm.invoke(prompt)\n",
    "    return response.content"
   ]
  },
  {
   "cell_type": "code",
   "execution_count": 8,
   "id": "9bb802a3",
   "metadata": {},
   "outputs": [
    {
     "data": {
      "text/plain": [
       "\"The weather in New York City is currently:\\n\\n*   **Temperature:** 66°F (19°C)\\n*   **Condition:** Mostly Cloudy\\n*   **Wind:** 13 mph\\n\\nIt's expected to be mostly cloudy throughout the day, with a high of 71°F (22°C).\""
      ]
     },
     "execution_count": 8,
     "metadata": {},
     "output_type": "execute_result"
    }
   ],
   "source": [
    "llm_call('What is the weather like in New York?')  # Example call to test the LLM"
   ]
  },
  {
   "cell_type": "code",
   "execution_count": 9,
   "id": "feea5367",
   "metadata": {},
   "outputs": [],
   "source": [
    "from typing import TypedDict, List, Optional\n",
    "from langchain_core.messages import BaseMessage, HumanMessage, AIMessage\n",
    "\n",
    "class AgentState(TypedDict):\n",
    "    messages: List[BaseMessage]\n",
    "    query_type: Optional[str]\n",
    "    retrieved_data: Optional[str]\n"
   ]
  },
  {
   "cell_type": "code",
   "execution_count": null,
   "id": "e0197616",
   "metadata": {},
   "outputs": [],
   "source": [
    "from typing import List, Optional, TypedDict\n",
    "from langchain_core.messages import BaseMessage\n",
    "\n",
    "class AgentState(TypedDict):\n",
    "    messages: List[BaseMessage]                  # Full chat history\n",
    "    query_type: str                              # \"retrieve_updates\", \"assign_task\", \"add_comment\", etc.\n",
    "    retrieved_data: Optional[str]                # Final result after processing\n",
    "    context_employee_name: Optional[str]         # Employee being referred to\n",
    "    context_task_title: Optional[str]            # Task title if relevant\n",
    "    context_date: Optional[str]                  # Parsed date or time reference\n",
    "    session_user_id: Optional[int]               # ID of currently logged-in manager from session\n"
   ]
  },
  {
   "cell_type": "code",
   "execution_count": null,
   "id": "ba2bad82",
   "metadata": {},
   "outputs": [],
   "source": [
    "from app.utils.llm import llm_call\n",
    "from app.agents.state import AgentState\n",
    "from datetime import datetime\n",
    "\n",
    "def classify_query(state: AgentState):\n",
    "    last_msg = state[\"messages\"][-1].content\n",
    "    today = datetime.today().date()\n",
    "\n",
    "    prompt = f\"\"\"\n",
    "You are an intelligent assistant helping route manager queries. From the message below, extract:\n",
    "\n",
    "1. Query type: One of [\"retrieve_updates\", \"assign_task\", \"add_comment\"]\n",
    "2. Employee full name (if mentioned)\n",
    "3. Task title (if mentioned)\n",
    "4. Due date or relevant date - Today is {today}.Try to extract the date from the text by comparing it with today.\n",
    "    If no date is provided, use today: {today}.\n",
    "\n",
    "Message:\n",
    "\"{last_msg}\"\n",
    "\n",
    "Respond in this format (exactly):\n",
    "Query type: ...\n",
    "Employee: ...\n",
    "Task title: ...\n",
    "Date: ...\n",
    "\"\"\"\n",
    "\n",
    "    response = llm_call(prompt)\n",
    "    print(\"🔍 Parsed metadata:\\n\", response)\n",
    "\n",
    "    # Parse response (naive version for now)\n",
    "    lines = response.strip().splitlines()\n",
    "    query_type = lines[0].split(\":\")[1] if len(lines) > 0 else \"\"\n",
    "    employee = lines[1].split(\":\")[1] if len(lines) > 1 else \"\"\n",
    "    task_title = lines[2].split(\":\")[1] if len(lines) > 2 else \"\"\n",
    "    date_str = lines[3].split(\":\")[1] if len(lines) > 3 else \"\"\n",
    "\n",
    "    return {\n",
    "        \"query_type\": query_type,\n",
    "        \"context_employee_name\": employee if employee.lower() != \"none\" else \"\",\n",
    "        \"context_task_title\": task_title if task_title.lower() != \"none\" else \"\",\n",
    "        \"context_date\": date_str if date_str.lower() != \"none\" else \"\",\n",
    "        \"retrieved_data\": \"\",  # Will be populated later\n",
    "        \"session_user_id\": state.get(\"session_user_id\")  # Ensure this flows from initial setup\n",
    "    }\n"
   ]
  },
  {
   "cell_type": "code",
   "execution_count": 11,
   "id": "fbaa176b",
   "metadata": {},
   "outputs": [],
   "source": [
    "from datetime import datetime\n",
    "\n",
    "def retrieve_updates(state: AgentState):\n",
    "    user_input = state[\"messages\"][-1].content\n",
    "    today = datetime.today().date()\n",
    "\n",
    "    # Step 1: Extract employee name and date via LLM\n",
    "    extraction_prompt = f\"\"\"\n",
    "    Extract the employee's full name and date (in YYYY-MM-DD format) from:\n",
    "    \"{user_input}\"\n",
    "    Today is {today}.Try to extract the date from the text by comparing it with today.\n",
    "    If no date is provided, use today: {today}.\n",
    "    Return only the name on the first line, and the date on the second line.\n",
    "    \"\"\"\n",
    "    result = llm_call(extraction_prompt).splitlines()\n",
    "    emp_name, req_date = result[0].strip(), result[1].strip()\n",
    "\n",
    "    # Step 2: Query user and updates\n",
    "    with Session() as session:\n",
    "        user = session.query(User).filter(User.full_name == emp_name).first()\n",
    "\n",
    "        if not user:\n",
    "            return {\"retrieved_data\": f\"No employee found with name: {emp_name}\"}\n",
    "\n",
    "        # Filter DailyUpdate by user ID and date\n",
    "        updates = session.query(DailyUpdate).filter(\n",
    "            DailyUpdate.user_id == user.id,\n",
    "            DailyUpdate.date == req_date\n",
    "        ).all()\n",
    "\n",
    "        if not updates:\n",
    "            return {\"retrieved_data\": f\"No updates found for {emp_name} on {req_date}\"}\n",
    "\n",
    "        # Format updates\n",
    "        updates_str = \"\\n\".join(\n",
    "            f\"{u.date} - {u.title}: {u.work_done}\" for u in updates\n",
    "        )\n",
    "\n",
    "    # Step 3: Summarize\n",
    "    summary_prompt = f\"Summarize the following work updates for {emp_name} on {req_date}:\\n{updates_str}\"\n",
    "    summary = llm_call(summary_prompt)\n",
    "\n",
    "    return {\n",
    "        \"retrieved_data\": f\"Summary for {emp_name} on {req_date}:\\n\\n{summary}\",\n",
    "        \"target_employee\": {\"id\": user.id, \"name\": user.full_name}\n",
    "    }\n"
   ]
  },
  {
   "cell_type": "code",
   "execution_count": 27,
   "id": "9088858b",
   "metadata": {},
   "outputs": [],
   "source": [
    "def assign_task(state: AgentState):\n",
    "    print('Assigning task...')\n",
    "    user_input = state[\"messages\"][-1].content\n",
    "\n",
    "    # Prompt LLM to return line-by-line output\n",
    "    prompt = f\"\"\"\n",
    "From the following task assignment message, extract the following details in order:\n",
    "\n",
    "1. Full name of the person assigning the task (if not provided, use \"Alice Johnson\")\n",
    "2. Full name of the person receiving the task\n",
    "3. Title of the task\n",
    "4. Description of the task\n",
    "5. Due date (format: YYYY-MM-DD)\n",
    "\n",
    "Only return these 5 items, one per line.\n",
    "\n",
    "Message: \"{user_input}\"\n",
    "\"\"\"\n",
    "\n",
    "    response = llm_call(prompt)\n",
    "    lines = [line.strip() for line in response.strip().splitlines() if line.strip()]\n",
    "    \n",
    "    # Debug print\n",
    "    print(\"🔍 Extracted lines:\", lines)\n",
    "\n",
    "    if len(lines) < 5:\n",
    "        return {\"retrieved_data\": \"❌ Could not extract all required task information. Please rephrase.\"}\n",
    "\n",
    "    assigned_by_name, assigned_to_name, title, description, due_date_str = lines[:5]\n",
    "\n",
    "    # Fallback if assigner not mentioned\n",
    "    if not assigned_by_name:\n",
    "        assigned_by_name = \"Alice Johnson\"\n",
    "\n",
    "    # Start DB session\n",
    "    session = Session()\n",
    "\n",
    "    assigner = session.query(User).filter_by(full_name=assigned_by_name).first()\n",
    "    assignee = session.query(User).filter_by(full_name=assigned_to_name).first()\n",
    "\n",
    "    if not assigner or not assignee:\n",
    "        return {\"retrieved_data\": f\"❌ Could not find assigner or assignee in the system.\\nAssigner: {assigned_by_name}, Assignee: {assigned_to_name}\"}\n",
    "\n",
    "    # Create and commit task\n",
    "    try:\n",
    "        task = Task(\n",
    "            title=title,\n",
    "            description=description,\n",
    "            due_date=date.fromisoformat(due_date_str),\n",
    "            assigned_by_id=assigner.id,\n",
    "            assigned_to_id=assignee.id,\n",
    "            status=\"open\"\n",
    "        )\n",
    "        session.add(task)\n",
    "        session.commit()\n",
    "    except Exception as e:\n",
    "        return {\"retrieved_data\": f\"❌ Failed to save task: {e}\"}\n",
    "\n",
    "    return {\n",
    "        \"retrieved_data\": (\n",
    "            f\"✅ Task assigned!\\n\\n\"\n",
    "            f\"• Title: {title}\\n\"\n",
    "            f\"• Description: {description}\\n\"\n",
    "            f\"• Assigned by: {assigned_by_name}\\n\"\n",
    "            f\"• Assigned to: {assigned_to_name}\\n\"\n",
    "            f\"• Due Date: {due_date_str}\"\n",
    "        )\n",
    "    }\n"
   ]
  },
  {
   "cell_type": "code",
   "execution_count": null,
   "id": "8c6805f2",
   "metadata": {},
   "outputs": [],
   "source": [
    "def add_comment(state: AgentState):\n",
    "    print('Adding comment...')\n",
    "    user_input = state[\"messages\"][-1].content\n",
    "\n",
    "    # Extract name, date, and comment using LLM\n",
    "    prompt = f\"\"\"\n",
    "    From the following message, extract:\n",
    "    1. The full name of the employee\n",
    "    2. The date of the daily update (YYYY-MM-DD format)\n",
    "    3. The comment to be added\n",
    "\n",
    "    Message: \"{user_input}\"\n",
    "    \n",
    "    Respond with:\n",
    "    Line 1: Full name\n",
    "    Line 2: Date (YYYY-MM-DD)\n",
    "    Line 3: Comment text\n",
    "    \"\"\"\n",
    "    lines = llm_call(prompt).splitlines()\n",
    "    if len(lines) < 3:\n",
    "        return {\"retrieved_data\": \"❌ Could not parse the name, date, and comment.\"}\n",
    "\n",
    "    name, date_str, comment_text = lines[0], lines[1], lines[2]\n",
    "    \n",
    "    # Query and update\n",
    "    session = Session()\n",
    "    user = session.query(User).filter_by(full_name=name).first()\n",
    "    if not user:\n",
    "        return {\"retrieved_data\": f\"❌ No employee found with name: {name}\"}\n",
    "\n",
    "    update = session.query(DailyUpdate).filter_by(user_id=user.id, date=date.fromisoformat(date_str)).first()\n",
    "    if not update:\n",
    "        return {\"retrieved_data\": f\"❌ No update found for {name} on {date_str}\"}\n",
    "\n",
    "    update.comment = comment_text\n",
    "    session.commit()\n",
    "    return {\"retrieved_data\": f\"✅ Comment added to {name}'s update on {date_str}.\"}\n",
    "    "
   ]
  },
  {
   "cell_type": "code",
   "execution_count": 28,
   "id": "30156163",
   "metadata": {},
   "outputs": [],
   "source": [
    "from langgraph.graph import StateGraph, END, START\n",
    "\n",
    "# Define the graph\n",
    "graph = StateGraph(AgentState)  # Use StateGraph, not just Graph()\n",
    "\n",
    "# Add nodes\n",
    "graph.add_node(\"classify_query\", classify_query)\n",
    "graph.add_node(\"retrieve_updates\", retrieve_updates)\n",
    "graph.add_node(\"assign_task\", assign_task)\n",
    "graph.add_node(\"add_comment\", add_comment)\n",
    "\n",
    "graph.add_edge(START, \"classify_query\")\n",
    "\n",
    "\n",
    "# Routing function\n",
    "def router(state: AgentState):\n",
    "    return state[\"query_type\"]\n",
    "\n",
    "# Add conditional edges (branches)\n",
    "graph.add_conditional_edges(\n",
    "    \"classify_query\",\n",
    "    lambda state: state[\"query_type\"],  # This should return one of the node names\n",
    "    {\n",
    "        \"retrieve_updates\": \"retrieve_updates\",\n",
    "        \"assign_task\": \"assign_task\", \n",
    "        \"add_comment\": \"add_comment\"\n",
    "    }\n",
    ")\n",
    "\n",
    "# Connect tools to END\n",
    "graph.add_edge(\"retrieve_updates\", END)\n",
    "graph.add_edge(\"assign_task\", END)\n",
    "graph.add_edge(\"add_comment\", END)\n",
    "\n",
    "# Start the graph\n",
    "graph.add_edge(START, \"classify_query\")\n",
    "\n",
    "# Compile it\n",
    "agent4 = graph.compile()"
   ]
  },
  {
   "cell_type": "code",
   "execution_count": 21,
   "id": "1e10df4f",
   "metadata": {},
   "outputs": [
    {
     "data": {
      "image/png": "[encoded data removed]",
      "text/plain": [
       "<IPython.core.display.Image object>"
      ]
     },
     "metadata": {},
     "output_type": "display_data"
    }
   ],
   "source": [
    "from IPython.display import Image, display\n",
    "\n",
    "try:\n",
    "    display(Image(agent4.get_graph(xray=True).draw_mermaid_png()))\n",
    "except Exception:\n",
    "    # This requires some extra dependencies and is optional\n",
    "    pass"
   ]
  },
  {
   "cell_type": "code",
   "execution_count": null,
   "id": "5bc133bf",
   "metadata": {},
   "outputs": [],
   "source": [
    "from langchain_core.messages import HumanMessage\n",
    "\n",
    "# Example user input\n",
    "user_input = \"What is the update on Task to Taylor Smith 13th of june?\"\n",
    "\n",
    "# Initial state\n",
    "initial_state = {\n",
    "    \"messages\": [HumanMessage(content=user_input)]\n",
    "}"
   ]
  },
  {
   "cell_type": "code",
   "execution_count": 17,
   "id": "24118535",
   "metadata": {},
   "outputs": [
    {
     "data": {
      "text/plain": [
       "{'messages': [HumanMessage(content='What is the update on Task to Taylor Smith 13th of june?', additional_kwargs={}, response_metadata={})],\n",
       " 'query_type': 'retrieve_updates',\n",
       " 'retrieved_data': 'Summary for Taylor Smith on 2025-06-13:\\n\\nOn June 13, 2025, Taylor Smith completed the new dashboard design in Figma for the UI Redesign project.'}"
      ]
     },
     "execution_count": 17,
     "metadata": {},
     "output_type": "execute_result"
    }
   ],
   "source": [
    "# Run the graph with initial state\n",
    "final_state = agent4.invoke(initial_state)\n",
    "final_state"
   ]
  },
  {
   "cell_type": "code",
   "execution_count": 29,
   "id": "856dd8af",
   "metadata": {},
   "outputs": [
    {
     "name": "stdout",
     "output_type": "stream",
     "text": [
      "Assigning task...\n",
      "🔍 Extracted lines: ['Alice Johnson', 'Sam Wilson', 'Optimize the database queries', 'Refactor ORM queries for better performance', '2025-06-20']\n"
     ]
    },
    {
     "data": {
      "text/plain": [
       "{'messages': [HumanMessage(content='Assign a new task to Sam Wilson: Optimize the database queries, due on 2025-06-20. Description: Refactor ORM queries for better performance assigned by Alice Johnson.', additional_kwargs={}, response_metadata={})],\n",
       " 'query_type': 'assign_task',\n",
       " 'retrieved_data': '✅ Task assigned!\\n\\n• Title: Optimize the database queries\\n• Description: Refactor ORM queries for better performance\\n• Assigned by: Alice Johnson\\n• Assigned to: Sam Wilson\\n• Due Date: 2025-06-20'}"
      ]
     },
     "execution_count": 29,
     "metadata": {},
     "output_type": "execute_result"
    }
   ],
   "source": [
    "from langchain_core.messages import HumanMessage\n",
    "\n",
    "# Example user input\n",
    "user_input = \"Assign a new task to Sam Wilson: Optimize the database queries, due on 2025-06-20. Description: Refactor ORM queries for better performance assigned by Alice Johnson.\"\n",
    "\n",
    "# Initial state\n",
    "initial_state = {\n",
    "    \"messages\": [HumanMessage(content=user_input)]\n",
    "}\n",
    "\n",
    "final_state = agent4.invoke(initial_state)\n",
    "final_state  "
   ]
  },
  {
   "cell_type": "code",
   "execution_count": null,
   "id": "1eae39e3",
   "metadata": {},
   "outputs": [],
   "source": []
  }
 ],
 "metadata": {
  "kernelspec": {
   "display_name": "rise_env",
   "language": "python",
   "name": "python3"
  },
  "language_info": {
   "codemirror_mode": {
    "name": "ipython",
    "version": 3
   },
   "file_extension": ".py",
   "mimetype": "text/x-python",
   "name": "python",
   "nbconvert_exporter": "python",
   "pygments_lexer": "ipython3",
   "version": "3.11.7"
  }
 },
 "nbformat": 4,
 "nbformat_minor": 5
}
